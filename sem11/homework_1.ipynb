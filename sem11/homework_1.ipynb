{
 "cells": [
  {
   "cell_type": "code",
   "execution_count": null,
   "metadata": {},
   "outputs": [],
   "source": [
    "# ДЗ к семинару 11\n",
    "# вместо функциии - f(x) = -12x^4*sin(cos(x)) - 18x^3+5x^2 + 10x - 30, пусть будет эта функция, попроще f(x) = -5x^2 + 10x - 150\n",
    "# Дана функция f(x) = -5x2 + 10x - 150\n",
    "# Определить корни\n",
    "# Найти интервалы, на которых функция возрастает\n",
    "# Найти интервалы, на которых функция убывает\n",
    "# Построить график\n",
    "# Вычислить вершину\n",
    "# Определить промежутки, на котором f > 0\n",
    "# Определить промежутки, на котором f < 0\n",
    "\n",
    "import math\n",
    "from sympy import *\n",
    "from sympy.plotting import plot as plt\n",
    "# from sympy import Symbol\n",
    "init_printing()\n",
    "x = Symbol('x')\n",
    "fx = -5*x**2 + 10*x - 150\n",
    "\n",
    "# 4. Построение графика\n",
    "\n",
    "p = plt(fx, (x,-5,5))\n",
    "\n",
    "# 5. Вершина\n",
    "\n",
    "print(solve(diff(fx))[0])\n",
    "\n",
    "# 6. Определить промежутки, на котором f > 0\n",
    "\n",
    "print(solve(fx>0))\n",
    "False\n",
    "\n",
    "# Определить промежутки, на котором f < 0\n",
    "\n",
    "print(solve(fx<0))\n",
    "(-oo < x) & (x < oo)\n",
    "\n",
    "# Определить корни\n",
    "\n",
    "x1, x2 = solve(fx)\n",
    "print('первый корень', round(x1.evalf(), 2),'\\nвторой корень', round(x2.evalf(), 2))\n",
    "# print(x1, x2)\n",
    "\n",
    "# первый корень 1.0 - 5.39*I \n",
    "# второй корень 1.0 + 5.39*I\n",
    "# Найти интервалы, на которых функция возрастает\n",
    "\n",
    "print(solve(diff(fx)>0))\n",
    "(-oo < x) & (x < 1)\n",
    "\n",
    "# Найти интервалы, на которых функция убывает\n",
    "\n",
    "print(solve(diff(fx)<0))\n",
    "(1 < x) & (x < oo)"
   ]
  }
 ],
 "metadata": {
  "kernelspec": {
   "display_name": "Python 3.10.7 64-bit",
   "language": "python",
   "name": "python3"
  },
  "language_info": {
   "name": "python",
   "version": "3.10.7"
  },
  "orig_nbformat": 4,
  "vscode": {
   "interpreter": {
    "hash": "0bbf2e8ba3b34e264101a0b03545a4a8de2c78109b9a6b9013c12976fca3ca71"
   }
  }
 },
 "nbformat": 4,
 "nbformat_minor": 2
}
